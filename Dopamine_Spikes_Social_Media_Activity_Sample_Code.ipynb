{
 "cells": [
  {
   "cell_type": "code",
   "execution_count": null,
   "id": "10c8eea6",
   "metadata": {},
   "outputs": [],
   "source": [
    "import pandas as pd\n",
    "import numpy as np\n",
    "\n",
    "# Sample data\n",
    "data = {\n",
    "    'user_id': [1, 1, 1, 2, 2, 3, 3, 3, 3],\n",
    "    'time_spent_minutes': [30, 45, 20, 60, 50, 10, 15, 25, 35],\n",
    "    'likes': [10, 15, 5, 20, 25, 2, 3, 4, 5],\n",
    "    'comments': [2, 3, 1, 4, 5, 0, 1, 1, 2],\n",
    "    'shares': [1, 2, 0, 3, 4, 0, 0, 1, 1],\n",
    "    'content_type': ['image', 'video', 'text', 'image', 'video', 'text', 'image', 'video', 'text']\n",
    "}\n",
    "\n",
    "# Create a DataFrame\n",
    "df = pd.DataFrame(data)\n",
    "\n",
    "# Feature engineering\n",
    "df['engagement_score'] = df['likes'] + df['comments'] * 2 + df['shares'] * 3\n",
    "df['dopamine_spike'] = np.where(df['engagement_score'] > 10, 1, 0)\n",
    "\n",
    "# Calculate average engagement score and dopamine spike probability\n",
    "user_stats = df.groupby('user_id').agg({\n",
    "    'time_spent_minutes': 'mean',\n",
    "    'engagement_score': 'mean',\n",
    "    'dopamine_spike': 'mean'\n",
    "}).reset_index()\n",
    "\n",
    "# Rename columns for clarity\n",
    "user_stats.columns = ['user_id', 'avg_time_spent', 'avg_engagement_score', 'dopamine_spike_probability']\n",
    "\n",
    "print(user_stats)\n",
    "\n",
    "# Function to infer dopamine spike based on new data\n",
    "def infer_dopamine_spike(time_spent, likes, comments, shares):\n",
    "    engagement_score = likes + comments * 2 + shares * 3\n",
    "    dopamine_spike = 1 if engagement_score > 10 else 0\n",
    "    return dopamine_spike\n",
    "\n",
    "# Example usage\n",
    "new_data = {\n",
    "    'time_spent_minutes': 40,\n",
    "    'likes': 12,\n",
    "    'comments': 4,\n",
    "    'shares': 2\n",
    "}\n",
    "\n",
    "dopamine_spike = infer_dopamine_spike(new_data['time_spent_minutes'], new_data['likes'], new_data['comments'], new_data['shares'])\n",
    "print(f'Inferred Dopamine Spike: {dopamine_spike}')\n"
   ]
  }
 ],
 "metadata": {
  "kernelspec": {
   "display_name": "Python 3 (ipykernel)",
   "language": "python",
   "name": "python3"
  },
  "language_info": {
   "codemirror_mode": {
    "name": "ipython",
    "version": 3
   },
   "file_extension": ".py",
   "mimetype": "text/x-python",
   "name": "python",
   "nbconvert_exporter": "python",
   "pygments_lexer": "ipython3",
   "version": "3.11.5"
  }
 },
 "nbformat": 4,
 "nbformat_minor": 5
}
